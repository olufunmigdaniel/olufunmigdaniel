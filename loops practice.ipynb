{
 "cells": [
  {
   "cell_type": "code",
   "execution_count": 1,
   "id": "2dac4860-7726-4364-bcab-93a1f9fe1bcb",
   "metadata": {},
   "outputs": [
    {
     "name": "stdout",
     "output_type": "stream",
     "text": [
      "1\n",
      "2\n",
      "3\n",
      "4\n",
      "5\n",
      "6\n",
      "7\n",
      "8\n",
      "9\n",
      "10\n"
     ]
    }
   ],
   "source": [
    "#count the first ten integers\n",
    "i = 1\n",
    "while i <= 10:\n",
    "    print(i)\n",
    "    i += 1"
   ]
  },
  {
   "cell_type": "code",
   "execution_count": 3,
   "id": "f1bf50d3-ee9a-48f5-971d-9c07386df1b6",
   "metadata": {},
   "outputs": [
    {
     "name": "stdout",
     "output_type": "stream",
     "text": [
      "4\n",
      "9\n",
      "16\n",
      "25\n",
      "36\n",
      "49\n",
      "64\n"
     ]
    }
   ],
   "source": [
    "# find the squares of numbers from 2 to 8\n",
    "num = 2\n",
    "while num <= 8:\n",
    "    print(num**2)\n",
    "    num += 1"
   ]
  },
  {
   "cell_type": "code",
   "execution_count": 4,
   "id": "13a86f75-2b0f-4d61-9b2c-55b708e12768",
   "metadata": {},
   "outputs": [
    {
     "name": "stdout",
     "output_type": "stream",
     "text": [
      "The sum of numbers from 0 to 10 is: 55\n"
     ]
    }
   ],
   "source": [
    "# The total sum of positive integers that will be equal to 55\n",
    "total_sum = 0\n",
    "for i in range(11):\n",
    "    total_sum += i\n",
    "    \n",
    "print('The sum of numbers from 0 to 10 is:', total_sum)"
   ]
  },
  {
   "cell_type": "code",
   "execution_count": 7,
   "id": "8e541e54-212a-46d9-92ac-cb9034af499e",
   "metadata": {},
   "outputs": [
    {
     "name": "stdout",
     "output_type": "stream",
     "text": [
      "75\n",
      "150\n",
      "145\n"
     ]
    }
   ],
   "source": [
    "# break and continue example\n",
    "numb = [12, 75, 150, 180, 145, 525, 50]\n",
    "for y in numb:\n",
    "    if y > 500:\n",
    "        break\n",
    "    elif y > 150:\n",
    "        continue\n",
    "    elif y % 5 == 0:\n",
    "        print(y)\n",
    "        "
   ]
  },
  {
   "cell_type": "code",
   "execution_count": null,
   "id": "b8542ce5-cc7f-4676-b40f-d4475d29a8da",
   "metadata": {},
   "outputs": [],
   "source": []
  },
  {
   "cell_type": "code",
   "execution_count": 10,
   "id": "9b9d8299-2283-443c-b4fd-a417d25c2caa",
   "metadata": {},
   "outputs": [
    {
     "name": "stdout",
     "output_type": "stream",
     "text": [
      "75\n",
      "150\n",
      "180\n",
      "145\n",
      "525\n",
      "50\n"
     ]
    }
   ],
   "source": [
    "numb = [12, 75, 150, 180, 145, 525, 50]\n",
    "for y in numb:\n",
    "    if y % 5 == 0:\n",
    "        print(y)\n",
    "    "
   ]
  },
  {
   "cell_type": "code",
   "execution_count": 12,
   "id": "6a1a4be3-14ee-4edf-a3fd-b2c9f4ba5956",
   "metadata": {},
   "outputs": [
    {
     "name": "stdout",
     "output_type": "stream",
     "text": [
      "150\n",
      "180\n"
     ]
    }
   ],
   "source": [
    "numb = [12, 75, 150, 180, 145, 525, 50]\n",
    "for y in numb:\n",
    "    if y > 500:\n",
    "        break\n",
    "    elif y < 150:\n",
    "        continue\n",
    "    elif y % 5 == 0:\n",
    "        print(y)"
   ]
  },
  {
   "cell_type": "code",
   "execution_count": 14,
   "id": "5e6997d9-4aa0-45d3-bcac-d1dbeb8e105c",
   "metadata": {},
   "outputs": [
    {
     "name": "stdout",
     "output_type": "stream",
     "text": [
      "4\n",
      "9\n",
      "16\n",
      "25\n",
      "36\n",
      "49\n",
      "64\n",
      "81\n",
      "100\n",
      "121\n",
      "144\n"
     ]
    }
   ],
   "source": [
    "num = 2\n",
    "while num <= 12:\n",
    "    print(num**2)\n",
    "    num += 1"
   ]
  },
  {
   "cell_type": "code",
   "execution_count": 16,
   "id": "1926b67c-1676-4ad1-a7e1-65470aec8139",
   "metadata": {},
   "outputs": [
    {
     "name": "stdout",
     "output_type": "stream",
     "text": [
      "total iteration required 3\n"
     ]
    }
   ],
   "source": [
    "#Check how many times a given number can be divided by 3 before it is less than or equal to 10.\n",
    "\n",
    "count = 0\n",
    "numb = 180\n",
    "while numb > 10:\n",
    "    numb = numb / 3\n",
    "    count = count + 1\n",
    "print('total iteration required',count)\n",
    "    "
   ]
  },
  {
   "cell_type": "code",
   "execution_count": 18,
   "id": "11fae6f0-71f6-43e7-88f5-c6b6cf96cb71",
   "metadata": {},
   "outputs": [
    {
     "name": "stdout",
     "output_type": "stream",
     "text": [
      "total iteration required 3\n"
     ]
    }
   ],
   "source": [
    "count = 0\n",
    "numb = 180\n",
    "while numb > 10:\n",
    "    numb = numb / 3\n",
    "    count = count + 1\n",
    "print('total iteration required',count)"
   ]
  },
  {
   "cell_type": "code",
   "execution_count": null,
   "id": "6fed27c3-60ca-47a4-8c0e-b48fc18fbd53",
   "metadata": {},
   "outputs": [],
   "source": []
  },
  {
   "cell_type": "code",
   "execution_count": 21,
   "id": "42b57688-7634-4e1d-8f92-b98654be1b78",
   "metadata": {},
   "outputs": [
    {
     "name": "stdout",
     "output_type": "stream",
     "text": [
      "total iteration required 3\n"
     ]
    }
   ],
   "source": [
    "count = 0\n",
    "numb = 180\n",
    "while numb > 10:\n",
    "    numb = numb / 3\n",
    "    count = count + 1\n",
    "print('total iteration required', count)"
   ]
  },
  {
   "cell_type": "code",
   "execution_count": 23,
   "id": "8da07dce-bdcf-4faa-b469-5fa8f3e00fdd",
   "metadata": {},
   "outputs": [
    {
     "name": "stdout",
     "output_type": "stream",
     "text": [
      "0\n",
      "1\n",
      "2\n",
      "3\n",
      "4\n",
      "5\n",
      "6\n",
      "7\n",
      "8\n",
      "9\n",
      "10\n",
      "11\n",
      "12\n",
      "13\n",
      "14\n"
     ]
    }
   ],
   "source": [
    "for number in range(15):\n",
    "    print(number)"
   ]
  },
  {
   "cell_type": "code",
   "execution_count": 25,
   "id": "359bad9c-d04e-4a1c-b1fc-637318e497dd",
   "metadata": {},
   "outputs": [
    {
     "name": "stdout",
     "output_type": "stream",
     "text": [
      "2\n",
      "6\n",
      "12\n",
      "20\n",
      "30\n",
      "42\n",
      "56\n",
      "72\n",
      "90\n",
      "110\n"
     ]
    }
   ],
   "source": [
    "# Print sum of all even numbers from 10 to 20\n",
    "sum = 0\n",
    "for i in range(2, 22, 2):\n",
    "    sum = sum + i\n",
    "    print(sum)"
   ]
  },
  {
   "cell_type": "code",
   "execution_count": 27,
   "id": "9c841747-1aac-48db-acc7-51ad80e0b442",
   "metadata": {},
   "outputs": [
    {
     "name": "stdout",
     "output_type": "stream",
     "text": [
      "1\n",
      "4\n",
      "9\n",
      "16\n",
      "25\n"
     ]
    }
   ],
   "source": [
    "numbers = [1,2,3,4,5]\n",
    "for i in numbers:\n",
    "    square = i**2\n",
    "    print(square)"
   ]
  },
  {
   "cell_type": "code",
   "execution_count": 29,
   "id": "6d913d83-b41f-426b-9cf3-883965542ec9",
   "metadata": {},
   "outputs": [
    {
     "name": "stdout",
     "output_type": "stream",
     "text": [
      "square of: 1 is: 1\n",
      "square of: 3 is: 9\n",
      "square of: 5 is: 25\n",
      "square of: 7 is: 49\n",
      "square of: 9 is: 81\n",
      "square of: 10 is: 100\n"
     ]
    }
   ],
   "source": [
    "# Calculate the square of each gigs of list\n",
    "gigs = [1,3,5,7,9,10]\n",
    "for i in gigs:\n",
    "    square = i**2\n",
    "    print('square of:', i, 'is:', square)"
   ]
  },
  {
   "cell_type": "code",
   "execution_count": 31,
   "id": "1148260e-5794-4600-8ecf-49f9b96d7621",
   "metadata": {},
   "outputs": [
    {
     "name": "stdout",
     "output_type": "stream",
     "text": [
      "30.0\n"
     ]
    }
   ],
   "source": [
    "# Calculate the average of the list of numbers\n",
    "\n",
    "numbers = [10, 20, 30, 40, 50]\n",
    "sum = 0\n",
    "for i in numbers:\n",
    "    sum = sum + i\n",
    "    List_af = len(numbers)\n",
    "    Average = sum / List_af\n",
    "print(Average)\n",
    "    "
   ]
  },
  {
   "cell_type": "code",
   "execution_count": 33,
   "id": "9ea4dc74-4ff0-4b21-b0a4-0f60d32fd2f8",
   "metadata": {},
   "outputs": [
    {
     "name": "stdout",
     "output_type": "stream",
     "text": [
      "odd numbers: 1\n",
      "even numbers: 2\n",
      "odd numbers: 3\n",
      "even numbers: 4\n",
      "odd numbers: 5\n",
      "even numbers: 6\n",
      "odd numbers: 7\n",
      "even numbers: 8\n",
      "odd numbers: 9\n",
      "even numbers: 10\n"
     ]
    }
   ],
   "source": [
    "#Print all even and odd numbers from 0 to 20\n",
    "\n",
    "for i in range(1, 11):\n",
    "    if i % 2 == 0:\n",
    "        print('even numbers:', i)\n",
    "    else:\n",
    "        print('odd numbers:', i)\n",
    "    "
   ]
  },
  {
   "cell_type": "code",
   "execution_count": 35,
   "id": "a5aa1da1-db21-4af3-af23-3a2a915fbe10",
   "metadata": {},
   "outputs": [
    {
     "name": "stdout",
     "output_type": "stream",
     "text": [
      "Odd Number: 1\n",
      "Even Number: 2\n",
      "Odd Number: 3\n",
      "Even Number: 4\n",
      "Odd Number: 5\n",
      "Even Number: 6\n",
      "Odd Number: 7\n",
      "Even Number: 8\n",
      "Odd Number: 9\n",
      "Even Number: 10\n"
     ]
    }
   ],
   "source": [
    "for i in range(1, 11):\n",
    "    if i % 2 == 0:\n",
    "        print('Even Number:', i)\n",
    "    else:\n",
    "        print('Odd Number:', i)"
   ]
  },
  {
   "cell_type": "code",
   "execution_count": 36,
   "id": "dec7aa68-517b-4b3b-83f0-6676cc628271",
   "metadata": {},
   "outputs": [
    {
     "name": "stdout",
     "output_type": "stream",
     "text": [
      "1\n",
      "4\n",
      "7\n",
      "8\n",
      "15\n"
     ]
    }
   ],
   "source": [
    "#Break the loop if a number is greater than 15\n",
    "\n",
    "numbers = [1, 4, 7, 8, 15, 20, 35, 45, 55]\n",
    "for i in numbers:\n",
    "    if i > 15:\n",
    "        break\n",
    "    else:\n",
    "        print(i)\n"
   ]
  },
  {
   "cell_type": "code",
   "execution_count": 38,
   "id": "687a0508-4b09-4d72-8a05-ae7f74becef8",
   "metadata": {},
   "outputs": [
    {
     "name": "stdout",
     "output_type": "stream",
     "text": [
      "total number of m is: 2\n"
     ]
    }
   ],
   "source": [
    "#count the total number of m in the name \n",
    "name = \"mariya mennen\"\n",
    "count = 0\n",
    "for char in name:\n",
    "    if char != 'm':\n",
    "        continue\n",
    "    else:\n",
    "        count = count + 1\n",
    "print('total number of m is:', count)\n",
    "    "
   ]
  },
  {
   "cell_type": "code",
   "execution_count": 41,
   "id": "e9aa6507-bc6f-4cae-a76d-7e7d654960bb",
   "metadata": {},
   "outputs": [
    {
     "name": "stdout",
     "output_type": "stream",
     "text": [
      "Total number of m is: 2\n"
     ]
    }
   ],
   "source": [
    "name = \"mariya mennen\"\n",
    "count = 0\n",
    "for char in name:\n",
    "    if char != 'm':\n",
    "        continue\n",
    "    else:\n",
    "        count = count + 1\n",
    "\n",
    "print('Total number of m is:', count)"
   ]
  },
  {
   "cell_type": "code",
   "execution_count": 42,
   "id": "9f931678-4563-4eba-af78-d355edbdfdcf",
   "metadata": {},
   "outputs": [
    {
     "name": "stdout",
     "output_type": "stream",
     "text": [
      "1\n",
      "2\n"
     ]
    }
   ],
   "source": [
    "#In this example, We are printing print only the first two numbers out of 5\n",
    "count = 0\n",
    "for i in range(1, 6):\n",
    "    count = count + 1\n",
    "    if count > 2:\n",
    "        break\n",
    "    else:\n",
    "        print(i)\n"
   ]
  },
  {
   "cell_type": "code",
   "execution_count": 44,
   "id": "52960218-884d-4fd2-b578-95c767191e39",
   "metadata": {},
   "outputs": [
    {
     "name": "stdout",
     "output_type": "stream",
     "text": [
      "40\n",
      "30\n",
      "20\n",
      "10\n"
     ]
    }
   ],
   "source": [
    "# Reversed numbers using reversed() function\n",
    "list1 = [10, 20, 30, 40]\n",
    "for u in reversed(list1):\n",
    "        print(u)"
   ]
  },
  {
   "cell_type": "code",
   "execution_count": 46,
   "id": "73ea520f-abc8-439e-adfd-9ea46019c63b",
   "metadata": {},
   "outputs": [
    {
     "name": "stdout",
     "output_type": "stream",
     "text": [
      "5\n",
      "4\n",
      "3\n",
      "2\n",
      "1\n"
     ]
    }
   ],
   "source": [
    "#Reverse list using reversed() function\n",
    "list2 = [1,2,3,4,5]\n",
    "for v in reversed(list2):\n",
    "    print(v)"
   ]
  },
  {
   "cell_type": "code",
   "execution_count": 48,
   "id": "d96934dd-3b65-4236-a6f7-9b25036fc726",
   "metadata": {},
   "outputs": [
    {
     "name": "stdout",
     "output_type": "stream",
     "text": [
      "6\n",
      "5\n",
      "4\n",
      "3\n",
      "2\n",
      "1\n"
     ]
    }
   ],
   "source": [
    "#Reverse list using loops\n",
    "list3 = [1,2,3,4,5,6]\n",
    "for t in list3[::-1]:\n",
    "    print(t)"
   ]
  },
  {
   "cell_type": "code",
   "execution_count": 50,
   "id": "163397fc-cd28-4144-885e-639acc793715",
   "metadata": {},
   "outputs": [
    {
     "name": "stdout",
     "output_type": "stream",
     "text": [
      "1\n",
      "2\n",
      "3\n",
      "4\n",
      "5\n",
      "6\n",
      "7\n",
      "8\n",
      "9\n"
     ]
    }
   ],
   "source": [
    "for numbers in range(1, 10):\n",
    "    print(numbers)"
   ]
  },
  {
   "cell_type": "code",
   "execution_count": 51,
   "id": "64cc1165-4c6d-49a2-9e4e-5876e99ed5b4",
   "metadata": {},
   "outputs": [
    {
     "name": "stdout",
     "output_type": "stream",
     "text": [
      "[4, 9, 16, 25, 36, 49]\n"
     ]
    }
   ],
   "source": [
    "numbers = []\n",
    "for i in range(2, 8):\n",
    "    numbers.append(i**2)\n",
    "\n",
    "print(numbers)"
   ]
  },
  {
   "cell_type": "code",
   "execution_count": 53,
   "id": "46736528-2d71-4861-bf47-ef0f22af259d",
   "metadata": {},
   "outputs": [
    {
     "name": "stdout",
     "output_type": "stream",
     "text": [
      "2\n",
      "3\n",
      "4\n",
      "5\n",
      "6\n",
      "7\n"
     ]
    }
   ],
   "source": [
    "numbers = []\n",
    "for u in range(2, 8):\n",
    "    reversed_u = str(u)[::-3]\n",
    "    print(reversed_u)"
   ]
  },
  {
   "cell_type": "code",
   "execution_count": 55,
   "id": "e9871f89-e745-4314-99b0-dd3a825ac1ae",
   "metadata": {},
   "outputs": [
    {
     "name": "stdout",
     "output_type": "stream",
     "text": [
      "2\n",
      "3\n",
      "4\n",
      "5\n",
      "6\n",
      "7\n"
     ]
    }
   ],
   "source": [
    "numbers = []\n",
    "for i in range(2, 8):\n",
    "    reversed_i = str(i)[::-1]\n",
    "    print(reversed_i)\n"
   ]
  },
  {
   "cell_type": "code",
   "execution_count": 57,
   "id": "970161a6-8546-476d-bf21-53a68ef9677d",
   "metadata": {},
   "outputs": [
    {
     "name": "stdout",
     "output_type": "stream",
     "text": [
      "cube of: 1 is: 1\n",
      "cube of: 2 is: 8\n",
      "cube of: 3 is: 27\n",
      "cube of: 4 is: 64\n",
      "cube of: 5 is: 125\n",
      "cube of: 6 is: 216\n"
     ]
    }
   ],
   "source": [
    "#Write a program to rint the cube of all numbers from 1 to a given number\n",
    "n = 5\n",
    "for i in range(1, n + 2):\n",
    "    cube = i**3\n",
    "    print('cube of:', i ,'is:', cube)"
   ]
  },
  {
   "cell_type": "code",
   "execution_count": 59,
   "id": "5d5355a6-1f1c-4d10-a391-2c42909f25d6",
   "metadata": {},
   "outputs": [
    {
     "name": "stdout",
     "output_type": "stream",
     "text": [
      "Current Number is : 1  and the cube is 1\n",
      "Current Number is : 2  and the cube is 8\n",
      "Current Number is : 3  and the cube is 27\n",
      "Current Number is : 4  and the cube is 64\n",
      "Current Number is : 5  and the cube is 125\n",
      "Current Number is : 6  and the cube is 216\n"
     ]
    }
   ],
   "source": [
    "#Write a program to rint the cube of all numbers from 1 to a given number\n",
    "input_number = 6\n",
    "for i in range(1, input_number + 1):\n",
    "    print(\"Current Number is :\", i, \" and the cube is\", (i * i * i))"
   ]
  },
  {
   "cell_type": "code",
   "execution_count": 60,
   "id": "deeb68e5-9afa-421d-bf28-0a8d3525988b",
   "metadata": {},
   "outputs": [
    {
     "name": "stdout",
     "output_type": "stream",
     "text": [
      "hurraY\n",
      "hurraY\n",
      "hurraY\n",
      "hurraY\n",
      "hurraY\n"
     ]
    }
   ],
   "source": [
    "# loops\n",
    "seq = [1,2,3,4,5]\n",
    "for num in seq:\n",
    "    print('hurraY')"
   ]
  },
  {
   "cell_type": "code",
   "execution_count": 62,
   "id": "c456a0c9-55a8-407a-b5e7-539850d269d7",
   "metadata": {},
   "outputs": [
    {
     "name": "stdout",
     "output_type": "stream",
     "text": [
      "i is:1\n",
      "i is:2\n",
      "i is:3\n",
      "i is:4\n"
     ]
    }
   ],
   "source": [
    "i = 1\n",
    "while i < 5:\n",
    "    print('i is:{}'.format(i))\n",
    "    i = i+1"
   ]
  },
  {
   "cell_type": "code",
   "execution_count": 63,
   "id": "259798cd-a179-466a-822f-b061529bbe3c",
   "metadata": {},
   "outputs": [
    {
     "name": "stdout",
     "output_type": "stream",
     "text": [
      "1\n",
      "4\n",
      "9\n",
      "16\n",
      "25\n"
     ]
    }
   ],
   "source": [
    "for num in seq:\n",
    "    num = num**2\n",
    "    print(num)"
   ]
  },
  {
   "cell_type": "code",
   "execution_count": 65,
   "id": "0c1b03db-5a15-4076-af70-6dd834bb77c1",
   "metadata": {},
   "outputs": [
    {
     "name": "stdout",
     "output_type": "stream",
     "text": [
      "we are hiring for a Data Analyst.\n",
      "sorry, we are not hiring for a data science role\n",
      "we are hiring for a Product Designer.\n",
      "we are hiring for a Blockchain Developer.\n",
      "thank you for checking our Job_openings\n"
     ]
    }
   ],
   "source": [
    "#Loops with Pablo\n",
    "Job_openings = ['Data Analyst','Data Scientist','Product Designer','Blockchain Developer']\n",
    "for Job_openings in Job_openings:\n",
    "    if Job_openings == 'Data Scientist':\n",
    "        print('sorry, we are not hiring for a data science role')\n",
    "    else:\n",
    "        print('we are hiring for a ' + Job_openings + '.')\n",
    "print('thank you for checking our Job_openings')\n",
    "    "
   ]
  },
  {
   "cell_type": "code",
   "execution_count": 66,
   "id": "b70649c7-ce29-4ba4-99a8-3d1433561be5",
   "metadata": {},
   "outputs": [],
   "source": [
    "#looping through dictionaries\n",
    "user = {'name': 'Olufunmi Gbenga', 'Age': 33, 'Favorite': 'Beans'}\n",
    "user['Occupation'] = 'Data Analyst'"
   ]
  },
  {
   "cell_type": "code",
   "execution_count": 67,
   "id": "4bc12fa9-cfe7-4ee5-8ab4-8696a3274dcf",
   "metadata": {},
   "outputs": [
    {
     "data": {
      "text/plain": [
       "{'name': 'Olufunmi Gbenga',\n",
       " 'Age': 33,\n",
       " 'Favorite': 'Beans',\n",
       " 'Occupation': 'Data Analyst'}"
      ]
     },
     "execution_count": 67,
     "metadata": {},
     "output_type": "execute_result"
    }
   ],
   "source": [
    "user"
   ]
  },
  {
   "cell_type": "code",
   "execution_count": 68,
   "id": "fbee6f38-6eb3-4ad5-83a4-c26967e8ee44",
   "metadata": {},
   "outputs": [
    {
     "name": "stdout",
     "output_type": "stream",
     "text": [
      "\n",
      "key: name\n",
      "value: Olufunmi Gbenga\n",
      "\n",
      "key: Age\n",
      "value: 33\n",
      "\n",
      "key: Favorite\n",
      "value: Beans\n",
      "\n",
      "key: Occupation\n",
      "value: Data Analyst\n"
     ]
    }
   ],
   "source": [
    "for key, value in user.items():\n",
    "    print(f\"\\nkey: {key}\")\n",
    "    print(f\"value: {value}\")"
   ]
  },
  {
   "cell_type": "code",
   "execution_count": 69,
   "id": "6f7d725b-82a8-4d3c-9045-b13a9a60e438",
   "metadata": {},
   "outputs": [],
   "source": [
    "user = {'name': 'Olufunmi Gbenga', 'Age': 33, 'Favorite': 'Beans'}\n",
    "user['Occupation'] = 'Data Analyst'"
   ]
  },
  {
   "cell_type": "code",
   "execution_count": 70,
   "id": "761fd776-48cc-4749-b634-51bf0834bf2f",
   "metadata": {},
   "outputs": [
    {
     "data": {
      "text/plain": [
       "{'name': 'Olufunmi Gbenga',\n",
       " 'Age': 33,\n",
       " 'Favorite': 'Beans',\n",
       " 'Occupation': 'Data Analyst'}"
      ]
     },
     "execution_count": 70,
     "metadata": {},
     "output_type": "execute_result"
    }
   ],
   "source": [
    "user"
   ]
  },
  {
   "cell_type": "code",
   "execution_count": 71,
   "id": "aa08014b-46c0-4ad1-aaba-c8ab08d01185",
   "metadata": {},
   "outputs": [
    {
     "name": "stdout",
     "output_type": "stream",
     "text": [
      "name\n",
      "Age\n",
      "Favorite\n",
      "Occupation\n",
      "('name', 'Olufunmi Gbenga')\n",
      "('Age', 33)\n",
      "('Favorite', 'Beans')\n",
      "('Occupation', 'Data Analyst')\n"
     ]
    }
   ],
   "source": [
    "for key in user.keys():\n",
    "    print(key)\n",
    "    \n",
    "for item in user.items():\n",
    "    print(item)\n"
   ]
  },
  {
   "cell_type": "code",
   "execution_count": 74,
   "id": "de185073-5374-4a77-a30b-dd7ad30fbdf2",
   "metadata": {},
   "outputs": [],
   "source": [
    "#Nesting\n",
    "# create three profiles\n",
    "profile1 = {'name': 'Gbenga', 'Position': 'Data Analyst', 'Location': 'Abuja'}\n",
    "profile2 = {'name': 'Samuel', 'Position': 'Software Developer', 'Location': 'Lagos'}\n",
    "profile3 = {'name': 'Grace', 'Position': 'Front end', 'Location': 'Abeokuta'}"
   ]
  },
  {
   "cell_type": "code",
   "execution_count": 75,
   "id": "8c165834-5efd-4da8-8b43-1853cffffd48",
   "metadata": {},
   "outputs": [],
   "source": [
    "#create a list\n",
    "profiles = [profile1, profile2, profile3]"
   ]
  },
  {
   "cell_type": "code",
   "execution_count": 77,
   "id": "445dd900-ac43-4c07-8921-06be32cf57ca",
   "metadata": {},
   "outputs": [
    {
     "name": "stdout",
     "output_type": "stream",
     "text": [
      "{'name': 'Gbenga', 'Position': 'Data Analyst', 'Location': 'Abuja'}\n",
      "{'name': 'Samuel', 'Position': 'Software Developer', 'Location': 'Lagos'}\n",
      "{'name': 'Grace', 'Position': 'Front end', 'Location': 'Abeokuta'}\n"
     ]
    }
   ],
   "source": [
    "#Loop through the profiles\n",
    "for profile in profiles:\n",
    "    print(profile)\n",
    "\n"
   ]
  },
  {
   "cell_type": "code",
   "execution_count": 78,
   "id": "60fd004d-b5d1-449e-aa91-f334f3403c45",
   "metadata": {},
   "outputs": [],
   "source": [
    "#Create a dict with list as values\n",
    "profile_DA = {'name': 'Gbenga',\n",
    "                  'profile': ['Rich','Famous','Senior man','Life of the party']}\n",
    "profile_SD = {'name': 'Samuel',\n",
    "             'profile': ['Tall','Gentle','Too serious','sharp']}\n",
    "profile_FE = {'name': 'Grace',\n",
    "             'profile': ['Preety','Amiable','Soft Spoken','Kind hearted']}"
   ]
  },
  {
   "cell_type": "code",
   "execution_count": 80,
   "id": "88d3efdb-4ea1-41f5-87e2-6cab69529c12",
   "metadata": {},
   "outputs": [
    {
     "name": "stdout",
     "output_type": "stream",
     "text": [
      "name\n",
      "Gbenga\n",
      "profile\n",
      "['Rich', 'Famous', 'Senior man', 'Life of the party']\n",
      "name\n",
      "Samuel\n",
      "profile\n",
      "['Tall', 'Gentle', 'Too serious', 'sharp']\n"
     ]
    }
   ],
   "source": [
    "#Now to loop through these dict with list\n",
    "for techies, profile in profile_DA.items():\n",
    "    print(techies)\n",
    "    print(profile)\n",
    "\n",
    "for techies, profile in profile_SD.items():\n",
    "    print(techies)\n",
    "    print(profile)"
   ]
  },
  {
   "cell_type": "code",
   "execution_count": 82,
   "id": "75d9cd9f-b108-40f8-8883-bc5bf6246058",
   "metadata": {},
   "outputs": [
    {
     "name": "stdout",
     "output_type": "stream",
     "text": [
      "we are hiring\n",
      "Sorry, we are not hiring Physics teacher.\n",
      "Sorry, we are not hiring Mathematics teacher.\n",
      "Sorry, we are not hiring Geography teacher.\n",
      "You may please check back some other time.Thank you!\n"
     ]
    }
   ],
   "source": [
    "Vacant_Positions = ['Chemistry', 'Physics', 'Mathematics', 'Geography']\n",
    "for Vacant_Positions in Vacant_Positions:\n",
    "    if Vacant_Positions == 'Chemistry':\n",
    "        print('we are hiring')\n",
    "    else:\n",
    "        print('Sorry, we are not hiring '  +  Vacant_Positions + ' teacher' + '.')\n",
    "print('You may please check back some other time.Thank you!')"
   ]
  },
  {
   "cell_type": "code",
   "execution_count": 84,
   "id": "425ab51e-00d6-4b5a-8c8f-17205f2f3742",
   "metadata": {},
   "outputs": [
    {
     "name": "stdout",
     "output_type": "stream",
     "text": [
      "\n",
      "key: name\n",
      "values: Confidence Orunchukwu Okoh\n",
      "\n",
      "key: Age\n",
      "values: 14\n",
      "\n",
      "key: Best Subjects\n",
      "values: ['Mathematics', 'Financial Accounting']\n"
     ]
    }
   ],
   "source": [
    "#looping through dictionaries\n",
    "Scholars = {'name': 'Confidence Orunchukwu Okoh', 'Age': 14, 'Best Subjects': ['Mathematics','Financial Accounting']}\n",
    "for key, value in Scholars.items():\n",
    "    print(f\"\\nkey: {key}\")\n",
    "    print(f\"values: {value}\")"
   ]
  },
  {
   "cell_type": "code",
   "execution_count": 86,
   "id": "a77b2980-716d-44a7-8d1c-9e7a8ac6fc84",
   "metadata": {},
   "outputs": [
    {
     "name": "stdout",
     "output_type": "stream",
     "text": [
      "8\n",
      "56\n",
      "336\n",
      "1680\n",
      "6720\n",
      "20160\n",
      "40320\n",
      "40320\n"
     ]
    }
   ],
   "source": [
    "n = 8\n",
    "factorial = 1\n",
    "while n > 0:\n",
    "    factorial *= n\n",
    "    n -= 1\n",
    "    print(factorial)"
   ]
  },
  {
   "cell_type": "code",
   "execution_count": 89,
   "id": "809d0429-646d-4ba9-8741-b226d49c1407",
   "metadata": {},
   "outputs": [
    {
     "name": "stdout",
     "output_type": "stream",
     "text": [
      "1\n",
      "8\n",
      "27\n",
      "64\n",
      "125\n",
      "216\n"
     ]
    }
   ],
   "source": [
    "#Write a program to print the cube of all numbers from 1 to a given number\n",
    "y = 6\n",
    "for y in range(1, 7):\n",
    "    cube = y**3\n",
    "    print(cube)"
   ]
  },
  {
   "cell_type": "code",
   "execution_count": 92,
   "id": "4bdcfcda-1d6d-4c50-a44d-94b8d6c4dde4",
   "metadata": {},
   "outputs": [
    {
     "name": "stdout",
     "output_type": "stream",
     "text": [
      "Current number is: 1 and the cube is: 1\n",
      "Current number is: 2 and the cube is: 8\n",
      "Current number is: 3 and the cube is: 27\n",
      "Current number is: 4 and the cube is: 64\n",
      "Current number is: 5 and the cube is: 125\n",
      "Current number is: 6 and the cube is: 216\n"
     ]
    }
   ],
   "source": [
    "#Write a program to print the cube of all numbers from 1 to a given number\n",
    "y = 6\n",
    "for y in range(1, 7):\n",
    "    print('Current number is:', y, 'and the cube is:', (y*y*y))"
   ]
  },
  {
   "cell_type": "code",
   "execution_count": 93,
   "id": "e3d778ad-7b32-44c6-975a-727f8542ffc1",
   "metadata": {},
   "outputs": [
    {
     "name": "stdout",
     "output_type": "stream",
     "text": [
      "2+22+222+2222+22222+\n",
      "Sum of above series is: 24690\n"
     ]
    }
   ],
   "source": [
    "#Find the sum of the series up to n terms\n",
    "#Write a program to calculate the sum of series up to n term. For example, if n =5 the series will become 2 + 22 + 222 + 2222 + 22222 = 24690\n",
    "n = 5\n",
    "# first number of sequence\n",
    "start = 2\n",
    "sum_seq = 0\n",
    "\n",
    "# run loop n times\n",
    "for i in range(0, n):\n",
    "    print(start, end=\"+\")\n",
    "    sum_seq += start\n",
    "    # calculate the next term\n",
    "    start = start * 10 + 2\n",
    "print(\"\\nSum of above series is:\", sum_seq)\n",
    "# or can be print('The sum of series up to' n, 'terms is:',result)"
   ]
  },
  {
   "cell_type": "code",
   "execution_count": null,
   "id": "c9d94b37-65a5-4427-8cca-e80562a38602",
   "metadata": {},
   "outputs": [],
   "source": []
  },
  {
   "cell_type": "code",
   "execution_count": null,
   "id": "6811d4b1-9920-4a87-9dfc-4a018eaf1a7d",
   "metadata": {},
   "outputs": [],
   "source": []
  },
  {
   "cell_type": "code",
   "execution_count": null,
   "id": "2c84a7f9-6cba-4609-af95-1d81f29de9be",
   "metadata": {},
   "outputs": [],
   "source": []
  },
  {
   "cell_type": "code",
   "execution_count": null,
   "id": "21df0644-c0a9-48b0-939d-2be66e16bdc3",
   "metadata": {},
   "outputs": [],
   "source": []
  },
  {
   "cell_type": "code",
   "execution_count": null,
   "id": "ac33dc67-686c-4905-80d0-7b2e48f440ed",
   "metadata": {},
   "outputs": [],
   "source": []
  },
  {
   "cell_type": "code",
   "execution_count": null,
   "id": "3a49a53d-aba8-419b-b6c6-b30b5f5947e6",
   "metadata": {},
   "outputs": [],
   "source": []
  },
  {
   "cell_type": "code",
   "execution_count": null,
   "id": "81db4edb-c587-4586-a3ff-837bb64fb59f",
   "metadata": {},
   "outputs": [],
   "source": []
  },
  {
   "cell_type": "code",
   "execution_count": null,
   "id": "92663d3d-0297-4844-a45c-d1b542a421b6",
   "metadata": {},
   "outputs": [],
   "source": []
  },
  {
   "cell_type": "code",
   "execution_count": null,
   "id": "bbcdf91f-4019-4515-ab64-e480eb8ccfc4",
   "metadata": {},
   "outputs": [],
   "source": []
  },
  {
   "cell_type": "code",
   "execution_count": null,
   "id": "1fff6c27-c4ca-465f-a07d-7a0034953fd7",
   "metadata": {},
   "outputs": [],
   "source": []
  },
  {
   "cell_type": "code",
   "execution_count": null,
   "id": "282a7f06-342a-44d6-8fc9-8ef6f5cdec36",
   "metadata": {},
   "outputs": [],
   "source": []
  }
 ],
 "metadata": {
  "kernelspec": {
   "display_name": "Python 3 (ipykernel)",
   "language": "python",
   "name": "python3"
  },
  "language_info": {
   "codemirror_mode": {
    "name": "ipython",
    "version": 3
   },
   "file_extension": ".py",
   "mimetype": "text/x-python",
   "name": "python",
   "nbconvert_exporter": "python",
   "pygments_lexer": "ipython3",
   "version": "3.12.4"
  }
 },
 "nbformat": 4,
 "nbformat_minor": 5
}
