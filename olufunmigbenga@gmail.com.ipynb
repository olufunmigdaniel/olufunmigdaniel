{
 "cells": [
  {
   "cell_type": "code",
   "execution_count": null,
   "id": "e7f23836-7a4f-4072-a601-ea013427cea6",
   "metadata": {
    "deletable": false,
    "editable": false,
    "nbgrader": {
     "cell_type": "code",
     "checksum": "ffbbb09bab70f0e8a147b2abf05353f2",
     "grade": false,
     "grade_id": "cell-61a640aeb6bf1afb",
     "locked": true,
     "schema_version": 3,
     "solution": false,
     "task": false
    }
   },
   "outputs": [],
   "source": [
    "#PLEASE DO NOT MODIFY THIS CELL\n",
    "#RUN THIS CELL BEFORE YOU BEGIN\n",
    "\n",
    "import unittest\n",
    "from unittest.mock import patch"
   ]
  },
  {
   "cell_type": "markdown",
   "id": "a0dbd208-2656-4fea-907d-91d887f48ab0",
   "metadata": {
    "deletable": false,
    "editable": false,
    "nbgrader": {
     "cell_type": "markdown",
     "checksum": "509ce432ad7e740a0e4af52f345ad826",
     "grade": false,
     "grade_id": "cell-b26ff8db28841dd9",
     "locked": true,
     "schema_version": 3,
     "solution": false,
     "task": false
    }
   },
   "source": [
    "# First Semester Project\n",
    "## Food Ordering Application\n",
    "A food vendor has approached you build a simple app to help theirs users order food. \n",
    "The vendor sells the following food items\n",
    "* Pizza at 6500 Naira\n",
    "* Burger at 3000 Naira\n",
    "* Noodles at 1300 Naira\n",
    "\n",
    "Write the code for each of these functions to accurately capture a users order and display a receipt to the user.\n",
    "\n",
    "NOTE: Users can order multiple items in different quantities"
   ]
  },
  {
   "cell_type": "markdown",
   "id": "1648e999-d1ed-41c7-a349-d87d40f81bbc",
   "metadata": {
    "deletable": false,
    "editable": false,
    "nbgrader": {
     "cell_type": "markdown",
     "checksum": "2c4ca02a4172a0990779b10024f513ff",
     "grade": false,
     "grade_id": "cell-3476e0639a018d23",
     "locked": true,
     "schema_version": 3,
     "solution": false,
     "task": false
    }
   },
   "source": [
    "## INSTRUCTIONS\n",
    "* Only type in the areas where you see the comment **\"#Your Code Here\"**.\n",
    "* Delete this line **\"raise NotImplementedError()\"** you will find it directly under the **\"#Your code here\"** comment.\n",
    "* Rename the file to the email you used in registering for this course.\n",
    "* Do not delete any cells or change what is written in them except for the cells that you are supposed to write on.\n",
    "* This project is worth 30 Marks so take it seriously and adhere strictly to the instructions."
   ]
  },
  {
   "cell_type": "code",
   "execution_count": 1,
   "id": "5d16abee-708f-4d4f-8970-ebffea88f7a2",
   "metadata": {
    "deletable": false,
    "editable": false,
    "nbgrader": {
     "cell_type": "code",
     "checksum": "f49661e102253cb5a5421f2aa2fe8c93",
     "grade": false,
     "grade_id": "cell-fb7b93b2fd612555",
     "locked": true,
     "schema_version": 3,
     "solution": false,
     "task": false
    }
   },
   "outputs": [],
   "source": [
    "#PLEASE DO NOT MODIFY THIS CELL\n",
    "\n",
    "def display_menu():\n",
    "    \"\"\"\n",
    "    Description: Prints the menu options for the food items available in the ordering app.\n",
    "                 since the app only has 3 food items you can order we add a fourth option to exit\n",
    "                 the menu when they are done ordering.\n",
    "    \"\"\"\n",
    "    print(\"Menu:\")\n",
    "    print(\"1. Pizza - 6500\")\n",
    "    print(\"2. Burger - 3000\")\n",
    "    print(\"3. Noodles - 1300\")\n",
    "    print(\"4. Exit Menu\")"
   ]
  },
  {
   "cell_type": "code",
   "execution_count": 1,
   "id": "25eb9bef-a717-4532-bdca-b1cef105079c",
   "metadata": {
    "deletable": false,
    "nbgrader": {
     "cell_type": "code",
     "checksum": "a0aad85b225a0f7bfce6730248fb46fc",
     "grade": false,
     "grade_id": "cell-6c24609d20d6ba1a",
     "locked": false,
     "schema_version": 3,
     "solution": true,
     "task": false
    }
   },
   "outputs": [],
   "source": [
    "def get_user_choice():\n",
    "    \"\"\"\n",
    "    Description: Takes user input to get the number corresponding to the chosen food item from the menu.\n",
    "                 Ensures the input is a valid choice between 1 and 4.\n",
    "                 \n",
    "                 If the input is not an integer return the error \n",
    "                 'Invalid input. Please enter a valid number.' \n",
    "                 \n",
    "                 If the input is an integer but not between 1 and 4 return the error\n",
    "                 'Invalid choice. Please enter a number between 1 and 4.' \n",
    "    \"\"\"\n",
    "    while true:\n",
    "        try:\n",
    "            choice = int(input('Enter the number of the item you want to order(1-4):'))\n",
    "            if 1 <= choice <= 4:\n",
    "                return choice\n",
    "            else:\n",
    "                print('Invalid choice.Please enter a valid number')\n",
    "        except ValueError:\n",
    "                print('Invalid input.Please enter a valid number.')"
   ]
  },
  {
   "cell_type": "code",
   "execution_count": null,
   "id": "b91a2e91-2e4d-49fe-8d97-b998a19b2ab3",
   "metadata": {
    "deletable": false,
    "editable": false,
    "nbgrader": {
     "cell_type": "code",
     "checksum": "dd42f04db8d6d76adc9ee256a7c45ca5",
     "grade": true,
     "grade_id": "cell-3ddef8229d1713a5",
     "locked": true,
     "points": 4,
     "schema_version": 3,
     "solution": false,
     "task": false
    }
   },
   "outputs": [],
   "source": [
    "#PLEASE DO NOT MODIFY THIS CELL\n",
    "\n",
    "class TestGetUserChoice(unittest.TestCase):\n",
    "    @patch('builtins.input', side_effect=['2'])\n",
    "    def test_valid_choice(self, mock_input):\n",
    "        result = get_user_choice()\n",
    "        self.assertEqual(result, 2)\n",
    "\n",
    "    @patch('builtins.input', side_effect=['invalid', '3'])\n",
    "    def test_invalid_then_valid_choice(self, mock_input):\n",
    "        result = get_user_choice()\n",
    "        self.assertEqual(result, 3)\n",
    "\n",
    "    @patch('builtins.input', side_effect=['5', '4'])\n",
    "    def test_invalid_then_exit_choice(self, mock_input):\n",
    "        result = get_user_choice()\n",
    "        self.assertIsNone(result)\n",
    "\n",
    "tester = TestGetUserChoice()\n",
    "tester.test_valid_choice()\n",
    "tester.test_invalid_then_valid_choice()\n",
    "tester.test_invalid_then_exit_choice()"
   ]
  },
  {
   "cell_type": "code",
   "execution_count": 5,
   "id": "d2051f24-e669-473d-9c6b-fc83d3868545",
   "metadata": {
    "deletable": false,
    "nbgrader": {
     "cell_type": "code",
     "checksum": "381653e88727219151e7c0cc63b1c439",
     "grade": false,
     "grade_id": "cell-c6a618a607e23f46",
     "locked": false,
     "schema_version": 3,
     "solution": true,
     "task": false
    }
   },
   "outputs": [],
   "source": [
    "def get_quantity():\n",
    "    \"\"\"\n",
    "    Description: Takes user input to get the quantity of the selected food item.\n",
    "                 and ensures the input is a positive integer.\n",
    "\n",
    "                 If the input is not an integer return the error \n",
    "                 'Invalid input. Please enter a valid number.' \n",
    "                 \n",
    "                 If the input is a negative integer or zero return the error\n",
    "                 'Quantity must be greater than 0.'\n",
    "    \"\"\"\n",
    "    while true:\n",
    "        try:\n",
    "            Quantity = int(input('Enter the quantity of the selected item:'))\n",
    "            if Quantity > 0:\n",
    "                return Quantity\n",
    "            else:\n",
    "                print('Quantity must be greater than 0.')\n",
    "        except ValueError:\n",
    "            print('Invalid input. Please enter a valid number.')"
   ]
  },
  {
   "cell_type": "code",
   "execution_count": null,
   "id": "26b94430-a2e5-4418-95c4-a7ecdf3dc877",
   "metadata": {
    "deletable": false,
    "editable": false,
    "nbgrader": {
     "cell_type": "code",
     "checksum": "9b5b564cd9f6443d5fe68cd811806003",
     "grade": true,
     "grade_id": "cell-7fd228c806e327c0",
     "locked": true,
     "points": 4,
     "schema_version": 3,
     "solution": false,
     "task": false
    }
   },
   "outputs": [],
   "source": [
    "#PLEASE DO NOT MODIFY THIS CELL\n",
    "\n",
    "class TestGetQuantity(unittest.TestCase):\n",
    "    @patch('builtins.input', side_effect=['3'])\n",
    "    def test_valid_quantity(self, mock_input):\n",
    "        result = get_quantity()\n",
    "        self.assertEqual(result, 3)\n",
    "\n",
    "    @patch('builtins.input', side_effect=['invalid', '5'])\n",
    "    def test_invalid_then_valid_quantity(self, mock_input):\n",
    "        result = get_quantity()\n",
    "        self.assertEqual(result, 5)\n",
    "\n",
    "    @patch('builtins.input', side_effect=['0', '-2', '4'])\n",
    "    def test_invalid_then_valid_quantity_with_negative_input(self, mock_input):\n",
    "        result = get_quantity()\n",
    "        self.assertEqual(result, 4)\n",
    "\n",
    "tester = TestGetQuantity()\n",
    "tester.test_valid_quantity()\n",
    "tester.test_invalid_then_valid_quantity()\n",
    "tester.test_invalid_then_valid_quantity_with_negative_input()"
   ]
  },
  {
   "cell_type": "code",
   "execution_count": 9,
   "id": "262d5901-5285-4926-b60c-2784ed5e8552",
   "metadata": {
    "deletable": false,
    "nbgrader": {
     "cell_type": "code",
     "checksum": "5550560fefb0e0c4f8cc9145ccd8a67d",
     "grade": false,
     "grade_id": "cell-fe851e407b6fa2ce",
     "locked": false,
     "schema_version": 3,
     "solution": true,
     "task": false
    }
   },
   "outputs": [],
   "source": [
    "def get_item_name(choice):\n",
    "    \"\"\"\n",
    "    Description: Retrieves and returns the name of a food item \n",
    "    based on the user's choice number from the menu.\n",
    "    \"\"\"\n",
    "    if choice == 1:\n",
    "        return 'Pizza'\n",
    "    elif choice == 2:\n",
    "        return 'Burger'\n",
    "    elif choice == 3:\n",
    "        return 'Noodles'\n",
    "    else:\n",
    "        return 'None'"
   ]
  },
  {
   "cell_type": "code",
   "execution_count": null,
   "id": "1804c554-d55a-40fa-8aaf-8d28999ab1e1",
   "metadata": {
    "deletable": false,
    "editable": false,
    "nbgrader": {
     "cell_type": "code",
     "checksum": "4736522facfee7da5d4b0782b6cb5286",
     "grade": true,
     "grade_id": "cell-c061919667620632",
     "locked": true,
     "points": 3,
     "schema_version": 3,
     "solution": false,
     "task": false
    }
   },
   "outputs": [],
   "source": [
    "#PLEASE DO NOT MODIFY THIS CELL\n",
    "\n",
    "assert get_item_name(1) == 'Pizza'\n",
    "assert get_item_name(2) == 'Burger'\n",
    "assert get_item_name(3) == 'Noodles'"
   ]
  },
  {
   "cell_type": "code",
   "execution_count": null,
   "id": "f9d42bdc-6ad9-4acc-878e-cd67e915a0bc",
   "metadata": {
    "deletable": false,
    "nbgrader": {
     "cell_type": "code",
     "checksum": "aba8f720e3f68e74ea3c8eff9c923706",
     "grade": false,
     "grade_id": "cell-8266a8ef77b7a512",
     "locked": false,
     "schema_version": 3,
     "solution": true,
     "task": false
    }
   },
   "outputs": [],
   "source": [
    "def get_item_price(choice):\n",
    "    \"\"\"\n",
    "    Description: Retrieves and returns the price of a food item based on \n",
    "    the user's choice number from the menu.\n",
    "    \"\"\"\n",
    "    if choice == 1:\n",
    "        return '6500 naira'\n",
    "    elif choice == 2:\n",
    "        return '3000 naira'\n",
    "    elif choice == 3:\n",
    "        return '1300 naira'\n",
    "    else:\n",
    "        return 'None'"
   ]
  },
  {
   "cell_type": "code",
   "execution_count": null,
   "id": "728d8603-603f-425a-887c-207d6883d19b",
   "metadata": {
    "deletable": false,
    "editable": false,
    "nbgrader": {
     "cell_type": "code",
     "checksum": "702cbe22b2c5f3ca8c54d73e2d1eab34",
     "grade": true,
     "grade_id": "cell-6b8ba807174ce818",
     "locked": true,
     "points": 3,
     "schema_version": 3,
     "solution": false,
     "task": false
    }
   },
   "outputs": [],
   "source": [
    "assert get_item_price(1) == 6500\n",
    "assert get_item_price(2) == 3000\n",
    "assert get_item_price(3) == 1300"
   ]
  },
  {
   "cell_type": "code",
   "execution_count": 11,
   "id": "d8b1dcd4-1739-4084-b517-730b18f73d2f",
   "metadata": {
    "deletable": false,
    "nbgrader": {
     "cell_type": "code",
     "checksum": "3295b8a76920f5f432f53812039c5024",
     "grade": false,
     "grade_id": "cell-b5776935997d481b",
     "locked": false,
     "schema_version": 3,
     "solution": true,
     "task": false
    }
   },
   "outputs": [],
   "source": [
    "def calculate_total_price(item_price, quantity):\n",
    "    \"\"\"\n",
    "    Description: Calculates and returns the total price of a specific food item \n",
    "    based on its price and the quantity ordered.\n",
    "    \"\"\"\n",
    "    if item_price is None or quantity is None or quantity <= 0:\n",
    "        return 'None'\n",
    "    total_price = item_price * quantity\n",
    "    return total_price"
   ]
  },
  {
   "cell_type": "code",
   "execution_count": null,
   "id": "87a11122-0536-4d98-9656-16e6d6e27cc8",
   "metadata": {
    "deletable": false,
    "editable": false,
    "nbgrader": {
     "cell_type": "code",
     "checksum": "2c5d2be4b19c66a1d591e5c9495b757f",
     "grade": true,
     "grade_id": "cell-2b5e0500570258af",
     "locked": true,
     "points": 4,
     "schema_version": 3,
     "solution": false,
     "task": false
    }
   },
   "outputs": [],
   "source": [
    "#PLEASE DO NOT MODIFY THIS CELL\n",
    "\n",
    "assert calculate_total_price(5, 2) == 10"
   ]
  },
  {
   "cell_type": "code",
   "execution_count": 15,
   "id": "ec82212d-6a86-4fb4-a37a-9102fb31f7c9",
   "metadata": {
    "deletable": false,
    "nbgrader": {
     "cell_type": "code",
     "checksum": "441d66d58f8969f97c51ecd09871c3b9",
     "grade": false,
     "grade_id": "cell-02a3728e75ef8d90",
     "locked": false,
     "schema_version": 3,
     "solution": true,
     "task": false
    }
   },
   "outputs": [],
   "source": [
    "def place_order():\n",
    "    \"\"\"\n",
    "    Description: Manages the process of adding items to a shopping cart. \n",
    "                 USE A DICTIONARY FOR THE CART.\n",
    "                 Calls other functions to get user choices, quantities, and calculates total prices.\n",
    "\n",
    "                 Your cart should look something like this assuming this user ordered 3 pizzas and 3 burgers.\n",
    "                 {\n",
    "                    'Pizza': {'quantity': 3, 'total_price': 19500},\n",
    "                    'Burger': {'quantity': 3, 'total_price': 9000}\n",
    "                 }\n",
    "    \"\"\"\n",
    "    Cart = {}\n",
    "    total_cost = 0\n",
    "    while true:\n",
    "        display_menu()\n",
    "        choice = get_user_choice()\n",
    "        if choice == 4:\n",
    "            print('Menu Exit.')\n",
    "            break\n",
    "            quantity = get_quantity\n",
    "            item_name = get_item_name(choice)\n",
    "            item_price = get_item_price(choice)\n",
    "            item_total_price = calculate_total_price(item_price, quantity)\n",
    "            if item_name and item_price is not None and item_total_price is not None:\n",
    "                if item_name in cart:\n",
    "                    cart[item_name]['total_price'] += item_total_price\n",
    "                else:\n",
    "                    cart[item_name] = {'quantity': quantity,'total_price': item_total_price}\n",
    "                    total_cost += item_total_price\n",
    "                    print(f\"You ordered {quantity}{item_name}(s) at {item_price} each. Total: {item_total_price}\")\n",
    "        else:\n",
    "            print(\"Invalid choice or quantity. Please try again.\")\n",
    "        \n",
    "        print(f\"Current total: {total_cost}\")\n",
    "        print(\"Your order summary:\")\n",
    "    for item, details in cart.items():\n",
    "        print(f\"{details['quantity']} {item}(s) at {item_price} each. Total: {details['total_price']}\")\n",
    "    \n",
    "    print(f\"Your total order cost is: {total_cost}\")"
   ]
  },
  {
   "cell_type": "code",
   "execution_count": null,
   "id": "5ae78f37-76f9-4e63-83d8-6af36a53e67f",
   "metadata": {
    "deletable": false,
    "editable": false,
    "nbgrader": {
     "cell_type": "code",
     "checksum": "32373e3d45a76dbb966070352cb7832a",
     "grade": true,
     "grade_id": "cell-16918c8d89ee10fa",
     "locked": true,
     "points": 6,
     "schema_version": 3,
     "solution": false,
     "task": false
    }
   },
   "outputs": [],
   "source": [
    "#PLEASE DO NOT MODIFY THIS CELL\n",
    "\n",
    "class TestPlaceOrder(unittest.TestCase):\n",
    "    @patch('__main__.get_user_choice', side_effect=[1, 2, None])\n",
    "    @patch('__main__.get_quantity', return_value=3)\n",
    "    def test_place_order(self, mock_get_quantity, mock_get_user_choice):\n",
    "        result = place_order()\n",
    "\n",
    "        # Assertions based on the expected behavior of place_order\n",
    "        expected_result = {'Pizza': {'quantity': 3, 'total_price': 19500},\n",
    "                           'Burger': {'quantity': 3, 'total_price': 9000}}\n",
    "        self.assertEqual(result, expected_result)\n",
    "\n",
    "        # Check that get_user_choice was called three times\n",
    "        self.assertEqual(mock_get_user_choice.call_count, 3)\n",
    "\n",
    "        # Check that get_quantity was called twice (for the two items added)\n",
    "        self.assertEqual(mock_get_quantity.call_count, 2)\n",
    "\n",
    "tester = TestPlaceOrder()\n",
    "tester.test_place_order()"
   ]
  },
  {
   "cell_type": "code",
   "execution_count": 3,
   "id": "a5370336-ca99-4968-b950-2032e5d2e6c9",
   "metadata": {
    "deletable": false,
    "nbgrader": {
     "cell_type": "code",
     "checksum": "efa6656e2dd083715b2d8916e3d8384a",
     "grade": false,
     "grade_id": "cell-620884e13f967fa3",
     "locked": false,
     "schema_version": 3,
     "solution": true,
     "task": false
    }
   },
   "outputs": [],
   "source": [
    "def check_out(cart):\n",
    "    \"\"\"\n",
    "    Description: Finalizes the order by displaying the contents of the shopping cart, including quantities and total prices.\n",
    "                 Prints the total order price like a receipt.\n",
    "\n",
    "                 The reciept would look like this if the cart is empty\n",
    "                 \n",
    "                     Your cart is empty. No items to check out.\n",
    "\n",
    "\n",
    "                 If the Cart is has items in it then the receipt should look exactly like this\n",
    "\n",
    "                     Checking out...\n",
    "                     Your order details:\n",
    "                     Item 1: Quantity - 2, Total Price - 2000\n",
    "                     Item 2: Quantity - 3, Total Price - 1500\n",
    "                     Total Order Price: 3500\n",
    "                     Thank you for ordering!\n",
    "    \"\"\"\n",
    "    if not cart:\n",
    "        print(\"Your cart is empty. No items to check out.\")\n",
    "        return\n",
    "\n",
    "    print(\"Checking out...\")\n",
    "    print(\"Your order details:\")\n",
    "    \n",
    "    total_order_price = 0\n",
    "    item_number = 1\n",
    "\n",
    "    for item, details in cart.items():\n",
    "        quantity = details['quantity']\n",
    "        total_price = details['total_price']\n",
    "        total_order_price += total_price\n",
    "        print(f\"Item {item_number}: {item} - Quantity: {quantity}, Total Price: {total_price}\")\n",
    "        item_number += 1\n",
    "\n",
    "    print(f\"Total Order Price: {total_order_price}\")\n",
    "    print(\"Thank you for ordering!\")"
   ]
  },
  {
   "cell_type": "code",
   "execution_count": null,
   "id": "17b0205f-5d1a-465e-8906-f14d3aa03740",
   "metadata": {
    "deletable": false,
    "editable": false,
    "nbgrader": {
     "cell_type": "code",
     "checksum": "923672991602f3fd34eef7adde8af339",
     "grade": true,
     "grade_id": "cell-db0a762b93d269b1",
     "locked": true,
     "points": 5,
     "schema_version": 3,
     "solution": false,
     "task": false
    }
   },
   "outputs": [],
   "source": [
    "#PLEASE DO NOT MODIFY THIS CELL\n",
    "\n",
    "class TestCheckOut(unittest.TestCase):\n",
    "    @patch('builtins.print')\n",
    "    def test_check_out_empty_cart(self, mock_print):\n",
    "        cart = {}\n",
    "        check_out(cart)\n",
    "        mock_print.assert_called_with(\"Your cart is empty. No items to check out.\")\n",
    "\n",
    "    @patch('builtins.print')\n",
    "    def test_check_out_non_empty_cart(self, mock_print):\n",
    "        cart = {\n",
    "            'Item 1': {'quantity': 2, 'total_price': 20},\n",
    "            'Item 2': {'quantity': 3, 'total_price': 15}\n",
    "        }\n",
    "        check_out(cart)\n",
    "\n",
    "        # Verify that the expected output was printed\n",
    "        expected_output = [\n",
    "            \"Checking out...\",\n",
    "            \"Your order details:\",\n",
    "            \"Item 1: Quantity - 2, Total Price - $20\",\n",
    "            \"Item 2: Quantity - 3, Total Price - $15\",\n",
    "            \"Total Order Price: $35\",\n",
    "            \"Thank you for ordering!\"\n",
    "        ]\n",
    "        calls = [unittest.mock.call(output) for output in expected_output]\n",
    "        mock_print.assert_has_calls(calls, any_order=False)\n",
    "\n",
    "tester = TestCheckOut()\n",
    "tester.test_check_out_empty_cart()\n",
    "tester.test_check_out_non_empty_cart()"
   ]
  },
  {
   "cell_type": "code",
   "execution_count": null,
   "id": "1230d66a-6384-4ec3-9939-774eb2420156",
   "metadata": {
    "deletable": false,
    "editable": false,
    "nbgrader": {
     "cell_type": "code",
     "checksum": "1901b0eb51a4db1704d4231199ec2a8b",
     "grade": false,
     "grade_id": "cell-aa1cd2da31c96375",
     "locked": true,
     "schema_version": 3,
     "solution": false,
     "task": false
    }
   },
   "outputs": [],
   "source": [
    "#PLEASE DO NOT MODIFY THIS CELL\n",
    "\n",
    "def food_ordering_app():\n",
    "    \"\"\"\n",
    "    Description: The main function that initiates the food ordering application.\n",
    "                 Calls place_order() to build the shopping cart and then calls check_out() to complete the order.\n",
    "\n",
    "                 NOTE THAT IF ANY OF THE OTHER FUNCTIONS ARE NOT CORRECTLY WRITTEN THIS WILL FAIL\n",
    "                 PLEASE DO NOT MODIFY THIS CELL\n",
    "    \"\"\"\n",
    "    print(\"Welcome to the Food Ordering App!\")\n",
    "    cart = place_order()\n",
    "    check_out(cart)"
   ]
  },
  {
   "cell_type": "code",
   "execution_count": null,
   "id": "f82b0ff1-7e23-4970-a5c3-a67b9ce14665",
   "metadata": {
    "deletable": false,
    "editable": false,
    "nbgrader": {
     "cell_type": "code",
     "checksum": "44b147b299e61e95f84aaecf4b81f30a",
     "grade": true,
     "grade_id": "cell-bc7e2ab74f6ce4b3",
     "locked": true,
     "points": 2,
     "schema_version": 3,
     "solution": false,
     "task": false
    }
   },
   "outputs": [],
   "source": [
    "#PLEASE DO NOT MODIFY THIS CELL\n",
    "\n",
    "class TestFoodOrderingApp(unittest.TestCase):\n",
    "    @patch('builtins.print')\n",
    "    @patch('__main__.place_order', return_value={'Item 1': {'quantity': 2, 'total_price': 20}})\n",
    "    @patch('__main__.check_out')\n",
    "    def test_food_ordering_app(self, mock_check_out, mock_place_order, mock_print):\n",
    "        food_ordering_app()\n",
    "\n",
    "        # Verify that the expected calls were made\n",
    "        mock_print.assert_called_with(\"Welcome to the Food Ordering App!\")\n",
    "        mock_place_order.assert_called_once()\n",
    "        mock_check_out.assert_called_once()\n",
    "\n",
    "tester = TestFoodOrderingApp()\n",
    "tester.test_food_ordering_app()"
   ]
  }
 ],
 "metadata": {
  "kernelspec": {
   "display_name": "Python 3 (ipykernel)",
   "language": "python",
   "name": "python3"
  },
  "language_info": {
   "codemirror_mode": {
    "name": "ipython",
    "version": 3
   },
   "file_extension": ".py",
   "mimetype": "text/x-python",
   "name": "python",
   "nbconvert_exporter": "python",
   "pygments_lexer": "ipython3",
   "version": "3.12.4"
  }
 },
 "nbformat": 4,
 "nbformat_minor": 5
}
